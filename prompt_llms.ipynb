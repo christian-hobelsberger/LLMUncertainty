{
 "cells": [
  {
   "cell_type": "code",
   "execution_count": 39,
   "id": "2388efd5",
   "metadata": {},
   "outputs": [],
   "source": [
    "# imports\n",
    "import pandas as pd\n",
    "import numpy as np\n",
    "import matplotlib.pyplot as plt\n",
    "import seaborn as sns\n",
    "\n",
    "from llm_model_wrappers import load_llama, load_gemma"
   ]
  },
  {
   "cell_type": "code",
   "execution_count": null,
   "id": "de3e3e6e",
   "metadata": {},
   "outputs": [],
   "source": [
    "gemma = load_gemma()\n",
    "response = gemma.prompt(\"Q: What's the tallest mountain? Include confidence.\\nA:\")\n",
    "print(response)"
   ]
  }
 ],
 "metadata": {
  "kernelspec": {
   "display_name": "llm_uncertainty",
   "language": "python",
   "name": "python3"
  },
  "language_info": {
   "codemirror_mode": {
    "name": "ipython",
    "version": 3
   },
   "file_extension": ".py",
   "mimetype": "text/x-python",
   "name": "python",
   "nbconvert_exporter": "python",
   "pygments_lexer": "ipython3",
   "version": "3.10.16"
  }
 },
 "nbformat": 4,
 "nbformat_minor": 5
}
